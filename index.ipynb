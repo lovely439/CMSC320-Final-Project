{
 "cells": [
  {
   "cell_type": "markdown",
   "metadata": {},
   "source": [
    "### Note: Max said he would grade this\n",
    "# Optimal grokking: Exploring TrueGrad Adam implementations and normalized singular values\n",
    "\n",
    "## Introduction\n",
    "What is grokking? [Grokking](https://arxiv.org/pdf/2201.02177.pdf) is a curious phenomenon in neural networks. It in some sense spits in the face of classic understanding of training models. Rather than describe it, as they say, a picture is worth 1,000 words.\n",
    "\n",
    "</br>\n",
    "\n",
    "![](./grokking.png)\n",
    "\n",
    "Taken from the research paper linked earlier, grokking is the behavior observed on some simple problems that long past overfitting, models almost suddenly generalize. And by long past overfitting, in this example we mean *long* past, nearly 4 orders of magnitude!\n",
    "\n",
    "## Its not actually that bad!\n",
    "Okay, so 4 orders of magnitude seem completely untenable, but this was the worst case described in the paper. Lets talk about the problem discussed in the paper a bit.\n",
    "</br>\n",
    "\n",
    "### So what is the problem described in the paper? What does the paper do?\n",
    "### The problem (simplified)\n",
    "Modular division </br>\n",
    "* Choose some prime $P$, the paper chose $P=97$\n",
    "* Generate all equations of the form $a+b \\equiv c$ (mod $P)$\n",
    "    * $a,b,c \\in \\mathbb{Z}^{0\\leq P}$\n",
    "* This will generate $N_{data} = P*P$ equations\n",
    "    * Split the data into training and validating\n",
    "* Train a standard TransformerDecoder of the following structure\n",
    "    * Embedding layer with positional encoding (functionally an encoder)\n",
    "    * 2 Layers\n",
    "        * width 128\n",
    "        * 4 attention heads\n",
    "* With an Adam optimizer having parameters\n",
    "    * learning rate $10^{-3}$\n",
    "    * weight decay $10^{-2}$ - they said 1, but pretty sure they meant $1e-2$... 1 is insane\n",
    "    * $B_1 = 0.9$, $B_2=0.98$\n",
    "\n",
    "## The problem actually described in the paper\n",
    "The problem described above is a lemma of what the paper actually does. This section is not required to understand anything we did, but we would be remiss if we did not talk about the finer details of the paper. </br>\n",
    "* Not just modular division\n",
    "    * $a \\circ b \\equiv c$(mod $P$) \n",
    "    * For the following ops\n",
    "        *  $a \\circ b$ $ = a + b$ (mod $P$) for $0 \\leq a,b \\le P$\n",
    "        *  $a \\circ b$ $ = a- b$ (mod $P$) for $0 \\leq a,b \\le P$\n",
    "        *  $a \\circ b$ $ = [a/b$ (mod $P$) for $0 \\leq a \\le P$, $0 \\le b \\le P$\n",
    "        *  $a \\circ b$ $ = [a/b$ (mod $P$) if $b$ is odd, otherwise $a-b$ (mod $P$)] for $0 \\leq a,b \\le P$\n",
    "        *  $a \\circ b$ $ = a^2 + b^2$ (mod $P$) for $0 \\leq a,b \\le P$\n",
    "        *  $a \\circ b$ $ = a^2 + ab + b^2$ (mod $P$) for $0 \\leq a,b \\le P$\n",
    "        *  $a \\circ b$ $ = a^2 + ab + b^2 + a$ (mod $P$) for $0 \\leq a,b \\le P$\n",
    "        *  $a \\circ b$ $ = a^3 + ab$ (mod $P$) for $0 \\leq a,b \\le P$\n",
    "        *  $a \\circ b$ $ = a^3 + ab^2 + b$ (mod $P$) for $0 \\leq a,b \\le P$\n",
    "        *  $a \\circ b$ $ = a * b$ for $a,b \\in \\mathbb{S}^5$\n",
    "        *  $a \\circ b$ $ = a * b * a^{-1}$ for $a,b \\in \\mathbb{S}^5$\n",
    "        *  $a \\circ b$ $ = a * b * a$ for $a,b \\in \\mathbb{S}^5$\n",
    "* This means every input was 5 tokens\n",
    "    * \"a\", \"op\", \"b\", \"=\", \"c\"\n",
    "* Generate all equations of this form for some specific op\n",
    "* Convert the 5 char arrays to 5 int arrays\n",
    "* Split the data as before\n",
    "* The transformer structure is unchanged\n",
    "* They used a variety of optimization techniques and hyperparameter tuning\n",
    "    * Minibatching and full batching\n",
    "    * 10 warm up updates of mini batch size $[512, \\frac{N_{trainingData}}{2}]$\n",
    "    * optimization budget of $10^5$ gradient updates - I read this as steps.\n",
    "    * learning rate $3e-4$, $3e-3$\n",
    "    * weight decay same as before\n",
    "    * Gaussian noise on weights\n",
    "    * residual dropout 0.1\n",
    "* They also put outliers in the dataset to see how this effected grokking\n",
    "\n",
    "Importantly this reperesents a more full scope of what the study did. </br>\n",
    "For our purposes we will just take some of their better presets as a base model.\n",
    "\n",
    "## Results figure\n",
    "![](./grokkingResults.png)\n",
    "* Yes this is the worst graph in terms of labeling ever\n",
    "* No the figure explanation does not help\n",
    "* Below we talk about the key findings of the paper mostly ignoring this graph\n",
    "\n",
    "## Key Results\n",
    "* Adam is seemingly very important to grokking, at least momentum optimizers\n",
    "* Grokking didn't happen until the singular values of weights became small\n",
    "* Minibatching is superior\n",
    "* Weight decay is *extremely* *extremely* important\n",
    "* They didn't give precise results as far as We could tell\n",
    "    * No statement that is this problem, this training data split, N optimization steps to train, M optimizations steps to grok\n",
    "    * There exists some parameters such that grokking happens within an order of magnitude\n",
    "\n",
    "\n",
    "\n",
    "## What we took from this as our base model\n",
    "* The transformer model with dropout\n",
    "* Adam optimizer \n",
    "    * $lr = 3e-4$\n",
    "    * $weightDecay = 1e-2$\n",
    "    * $B_1 = 0.9$, $B_2=0.98$\n",
    "* Full batch training\n",
    "\n",
    "Essentially this represented their best presets minus minibatching which preformed significantly better in their training. \n",
    "\n",
    "\n",
    "\n",
    "### Why didn't we do minibatching?\n",
    "* We believe on intuition that TrueGrad Adam should be much more stable\n",
    "* The best way to show this is to use the \"worst\" case for the optimizer\n",
    "* Still good presets for Adam, but a hard situation\n",
    "\n",
    "## Paper Implementation\n"
   ]
  },
  {
   "cell_type": "markdown",
   "metadata": {},
   "source": [
    "### Used libraries for complete implementation\n",
    "* [pytorch](https://github.com/pytorch/pytorch)\n",
    "* [Tensorflow](https://github.com/tensorflow/tensorflow) (Just for mnist dataset)\n",
    "* [numpy](https://github.com/numpy/numpy)\n",
    "* [TrueGrad](https://github.com/ClashLuke/TrueGrad)\n",
    "* [fasth](https://github.com/AlexanderMath/fasth)\n",
    "* [pandas](https://github.com/pandas-dev/pandas)\n",
    "* [matplotlib](https://matplotlib.org/)\n",
    "#### All neccessary imports for paper re-implementation and analysis"
   ]
  },
  {
   "cell_type": "code",
   "execution_count": 12,
   "metadata": {},
   "outputs": [],
   "source": [
    "import numpy as np\n",
    "import torch\n",
    "import torch.nn.functional as F\n",
    "from torch import Tensor\n",
    "from torch.nn import Parameter\n",
    "from typing import Optional, List, Tuple\n",
    "import pandas as pd\n",
    "import matplotlib.pyplot as plt\n",
    "import os\n",
    "from pathlib import Path"
   ]
  },
  {
   "cell_type": "markdown",
   "metadata": {},
   "source": [
    "### Preset parameters from the paper"
   ]
  },
  {
   "cell_type": "code",
   "execution_count": 2,
   "metadata": {},
   "outputs": [],
   "source": [
    "P = 97\n",
    "DEVICE = \"cuda\"\n",
    "D_MODEL = 128"
   ]
  },
  {
   "cell_type": "markdown",
   "metadata": {},
   "source": [
    "### Data generation\n",
    "\n",
    "Unlike the paper we generate the smaller verison so. So our data looks as follows\n",
    "* $x \\in x_{train}$ x = \\[10, 17, 0\\]\n",
    "* corresponding y = \\[10, 17, (10 + 17) % p \\]\n",
    "* Essentially x is just y without the answer\n",
    "We split the data into training and validation to the specified amount of training data.\n",
    "* $x_{train}, y_{train}$ are shape (n_training_data, 3)\n",
    "* $x_{test}, y_{test}$ are shape ($P*P$ - n_training_data, 3)"
   ]
  },
  {
   "cell_type": "code",
   "execution_count": 3,
   "metadata": {},
   "outputs": [],
   "source": [
    "def gen_data(n_training_data: int, p: int, device: str = \"cuda\"):\n",
    "    # generate all possible equations for mod p\n",
    "    all_data = []\n",
    "    for i in range(p):\n",
    "        for j in range(p):\n",
    "           all_data.append([i,j,(i+j)%p])\n",
    "    \n",
    "    all_data = np.array(all_data)\n",
    "    indices = np.random.permutation(all_data.shape[0])\n",
    "    train_indices = indices[:n_training_data]\n",
    "    valid_indices = indices[n_training_data:]\n",
    "    \n",
    "    input_seq: np.ndarray = all_data.copy()\n",
    "    output_seq = input_seq.copy()\n",
    "    input_seq[:, -1] = 0 # don't include answers\n",
    "\n",
    "    train_x = torch.tensor(input_seq[train_indices]).long().to(device)\n",
    "    train_y = torch.tensor(output_seq[train_indices]).long().to(device)\n",
    "    valid_x = torch.tensor(input_seq[valid_indices]).long().to(device)\n",
    "    valid_y = torch.tensor(output_seq[valid_indices]).long().to(device)\n",
    "\n",
    "    return (train_x, train_y), (valid_x, valid_y)"
   ]
  },
  {
   "cell_type": "markdown",
   "metadata": {},
   "source": [
    "### The embedding layer\n",
    "Pytorch doesn't seem to have an embedding with position encoding built in yet. It might seem overkill to implement but transformers are permutation invariant which on a symmetric problem might give us an unfair advantage.\n",
    "\n",
    "Our implementation is standard or positional encoding - we used the [following](https://machinelearningmastery.com/a-gentle-introduction-to-positional-encoding-in-transformer-models-part-1/) as reference"
   ]
  },
  {
   "cell_type": "code",
   "execution_count": 4,
   "metadata": {},
   "outputs": [],
   "source": [
    "class EmbeddingWithPE(torch.nn.Embedding):\n",
    "    def __init__(self, num_embeddings: int, embedding_dim: int, seq_len: int, N: int= 10_000,\n",
    "            padding_idx: Optional[int] = None, max_norm: Optional[float] = None,\n",
    "            norm_type: float = 2.0, scale_grad_by_freq: bool = False, sparse: bool=False,\n",
    "            device: Optional[torch.device] = None, dtype: Optional[torch.dtype] = None\n",
    "        ):\n",
    "        super().__init__(\n",
    "            num_embeddings, embedding_dim, padding_idx, max_norm, norm_type,\n",
    "            scale_grad_by_freq, sparse, device, dtype\n",
    "        )\n",
    "       \n",
    "        pe = torch.zeros((seq_len, embedding_dim))\n",
    "        buf = torch.arange(embedding_dim//2)\n",
    "        denom = torch.pow(N, (2*buf)/embedding_dim)\n",
    "        k = torch.arange(seq_len)\n",
    "        pe[k, ::2] = torch.sin(k.unsqueeze(1)/denom)\n",
    "        pe[k, 1::2] = torch.cos(k.unsqueeze(1)/denom)\n",
    "        # pe should not be a learnable parameter, a buffer not a parameter\n",
    "        self.register_buffer(\"pe\", pe)\n",
    "             \n",
    "\n",
    "    def forward(self, x: Tensor) -> Tensor:\n",
    "        return F.embedding(\n",
    "            x, self.weight, self.padding_idx, self.max_norm,\n",
    "            self.norm_type, self.scale_grad_by_freq, self.sparse) + self.pe"
   ]
  },
  {
   "cell_type": "markdown",
   "metadata": {},
   "source": [
    "### The Transformer Model\n",
    "Won't rehash the copying of the paper but will mention a few important things.\n",
    "The paper stipulated a standard decoder so this is what we built, this includes masking and layernorms.\n",
    "\n",
    "Also important is a decoder of width N will have an output layer with N neurons. We are classifying a number that is at most P which is num_embeddings. So we add a layer such that the final layer has num_embedding (P) outputs."
   ]
  },
  {
   "cell_type": "code",
   "execution_count": 5,
   "metadata": {},
   "outputs": [],
   "source": [
    "class Transformer(torch.nn.Module):\n",
    "    def __init__(self, seq_length: int, num_embeddings: int, d_model: int, dim_feedforward: int = 2048):\n",
    "        super().__init__()\n",
    "        self.d_model = d_model\n",
    "        self.num_embeddings = num_embeddings\n",
    "        self.embed = EmbeddingWithPE(\n",
    "            self.num_embeddings, self.d_model, seq_length)\n",
    "\n",
    "        decoder_layer = torch.nn.TransformerDecoderLayer(self.d_model, nhead=4, dim_feedforward=dim_feedforward,\n",
    "                                        dropout=0.1, batch_first=True, norm_first=True)\n",
    "        decoder_norm = torch.nn.LayerNorm(self.d_model)\n",
    "\n",
    "        self.decoder = torch.nn.TransformerDecoder(\n",
    "            decoder_layer, num_layers=2, norm=decoder_norm)\n",
    "        self.linear = torch.nn.Linear(\n",
    "            self.d_model, self.num_embeddings, bias=False)\n",
    "        self.mask = Parameter(\n",
    "            torch.ones([seq_length, seq_length]).tril())\n",
    "\n",
    "    def forward(self, x: Tensor) -> Tensor:\n",
    "        x = self.embed(x)\n",
    "        x = self.decoder.forward(x, torch.zeros_like(x), self.mask)\n",
    "        return self.linear(x)\n",
    "\n",
    "    def acc(self, prediction: Tensor, labels: Tensor):\n",
    "        return (torch.argmax(prediction, dim=-2) == labels).float().mean()\n",
    "\n"
   ]
  },
  {
   "cell_type": "markdown",
   "metadata": {},
   "source": [
    "### Training the model\n",
    "Here we write a simple training loop to do full batch training of the model. We record the training losses and accuracie as well as the validation losses and accuracies. \n",
    "\n",
    "We use cross entropy because always use cross entropy."
   ]
  },
  {
   "cell_type": "code",
   "execution_count": 6,
   "metadata": {},
   "outputs": [],
   "source": [
    "def simple_train(\n",
    "    model: Transformer,\n",
    "    optimizer: torch.optim.Optimizer,\n",
    "    train_x: Tensor,\n",
    "    train_y: Tensor, \n",
    "    valid_x: Tensor, \n",
    "    valid_y: Tensor,\n",
    "    epochs: int = 10_000,\n",
    "    quiet: bool = False\n",
    ") -> Tuple[ Tuple[List[Tensor], List[Tensor]],  Tuple[List[Tensor], List[Tensor]]  ]:\n",
    "    \n",
    "    \"\"\"\n",
    "    Simple training method, does full batch training on transformer model\n",
    "    returns (train_accs, train_losses), (valid_accs, valid_losses) \n",
    "    where each list is length epochs\n",
    "    \"\"\"\n",
    "\n",
    "    model.zero_grad()\n",
    "    train_losses: List[Tensor] = []\n",
    "    train_accs: List[Tensor] = []\n",
    "    validation_losses: List[Tensor] = []\n",
    "    validation_accs: List[Tensor] = []\n",
    "    for i in range(epochs):\n",
    "        optimizer.zero_grad()\n",
    "        output = model.forward(train_x)\n",
    "        print(output.shape)\n",
    "        # model.forward shape is (n_inputs, 3, 97)\n",
    "        # transpose to (n_inputs, 97, 3)\n",
    "        pred = output.transpose(-2, -1)\n",
    "        # -1: to not drop the dim\n",
    "        pred = pred[..., -1:] \n",
    "        label = train_y[:, -1:]\n",
    "\n",
    "        loss = F.cross_entropy(pred, label)\n",
    "        acc = model.acc(pred, label)\n",
    "        \n",
    "        # keep track of losses\n",
    "        train_accs.append(acc.item())\n",
    "        train_losses.append(loss.item())\n",
    "        \n",
    "        with torch.no_grad():\n",
    "            pred_valid = model.forward(valid_x).transpose(-2, -1)[..., -1:]\n",
    "            label_valid = valid_y[:, -1:]\n",
    "            valid_loss = F.cross_entropy(pred_valid, label_valid)\n",
    "            valid_acc = model.acc(pred_valid, label_valid)\n",
    "            validation_accs.append(valid_acc.item())\n",
    "            validation_losses.append(valid_loss.item())\n",
    "        if i % 100 == 0 and not quiet:\n",
    "            print(f\"Epoch {i}: loss {loss.item():e}, training_accuracy {acc}, valid_acc {valid_acc:4f}, valid_loss: {valid_loss:4f}\")\n",
    "        loss.backward()\n",
    "        optimizer.step()\n",
    "    \n",
    "    return (train_accs, train_losses), (validation_accs, validation_losses)\n"
   ]
  },
  {
   "cell_type": "markdown",
   "metadata": {},
   "source": [
    "### Training the model on a variety of parameters\n",
    "\n",
    "We want to generate an amount of results to compare so we do grid search on the following parameters.\n",
    "* N_epochs = 15,000\n",
    "* n_training_data = 800 + 100k $k \\in \\mathbb{Z}^{0 \\le 12}$\n",
    "* d_model = \\[64, 128, 256\\]\n",
    "* dim_feedforward = \\[256, 512, 1024, 2048\\]\n",
    "</br>\n",
    "\n",
    "This took 1.5 *days* of compute on an rtx 2060 12GB.\n",
    "We save all fully trained models to do later analysis on their singular values as well the train and validation losses and accuracies.\n",
    "\n",
    "The naming scheme for the saved files is\n",
    "* .csv or .model depending on if its the model state dict or the training accuracies losses etcetera\n",
    "* \\<n_training_data\\>_\\<d_model\\>_\\<dim_feedforward\\>\n",
    "* To not confuse anyone from earlier d_model is the same as width from the paper"
   ]
  },
  {
   "cell_type": "code",
   "execution_count": 7,
   "metadata": {},
   "outputs": [],
   "source": [
    "# For the sake of not running this biaccident we put this behind a function\n",
    "def DO_NOT_RUN():\n",
    "    for n_training_data in range(800, 2001, 100):\n",
    "        # For consistency training data must be the same for the models of different params\n",
    "        (train_x, train_y), (valid_x, valid_y) = gen_data(n_training_data, P, device=DEVICE)\n",
    "\n",
    "        for d_model in [64, 128, 256]:\n",
    "            for dim_feedforward in [256, 512, 1024, 2048]:\n",
    "                model = Transformer(train_x.size(-1), P, d_model, dim_feedforward=dim_feedforward).to(DEVICE)\n",
    "\n",
    "                optimizer = torch.optim.Adam(\n",
    "                    model.parameters(),\n",
    "                    lr=3e-4,\n",
    "                    betas=[.9, .98],\n",
    "                    weight_decay=1e-2,\n",
    "                    eps=1e-8,\n",
    "                    amsgrad=False,\n",
    "                )\n",
    "                print(f\"Training model: n_train_data: {n_training_data}, d_model: {d_model} dim_feedforward: {dim_feedforward} \")\n",
    "                (acc, loss), (valid_acc, valid_loss) = simple_train(model, optimizer, train_x, train_y, valid_x, valid_y, quiet=False,epochs=15_000)\n",
    "                df_cols = [\"Training Accuracy\", \"Training Loss\", \"Validation Accuracy\", \"Validation Loss\"]\n",
    "                df = pd.DataFrame(list(zip(acc, loss, valid_acc, valid_loss)), columns=df_cols)\n",
    "                df.to_csv(f\"output/{n_training_data}_{d_model}_{dim_feedforward}.csv\")\n",
    "                torch.save(model.state_dict(), f\"output/{n_training_data}_{d_model}_{dim_feedforward}.model\")"
   ]
  },
  {
   "cell_type": "markdown",
   "metadata": {},
   "source": [
    "### Analysis of accuracies\n",
    "\n",
    "First lets make a series plots as follows where <> denotes an immutable parameter\n",
    "* (training_data, \\<d_model=64\\>, dim_feedforward)\n",
    "* (training_data, \\<d_model=128\\>, dim_feedforward)\n",
    "* (training_data, \\<d_model=256\\>, dim_feedforward)\n",
    "\n",
    "So each set of plots is 13 by 4 and we can visually examine them before doing any statisical testing\n"
   ]
  },
  {
   "cell_type": "code",
   "execution_count": 29,
   "metadata": {},
   "outputs": [
    {
     "data": {
      "image/png": "[encoded data removed]",
      "text/plain": [
       "<Figure size 2016x720 with 52 Axes>"
      ]
     },
     "metadata": {
      "needs_background": "light"
     },
     "output_type": "display_data"
    }
   ],
   "source": [
    "dataDir = Path(\"./output\")\n",
    "count=0\n",
    "for fname in sorted(os.listdir(dataDir)):\n",
    "    if fname.endswith(\"model\"):\n",
    "        continue\n",
    "    fullPath = dataDir/Path(fname)\n",
    "    count+=1\n",
    "    #print(fullPath)\n",
    "fig, ax = plt.subplots(4, 13)\n",
    "for row in range(4):\n",
    "    for col in range(13):\n",
    "        csvName = f\"output/{int(800+col*100)}_64_{int(2**row * 256)}.csv\"\n",
    "        plt.setp(ax[row][col].get_xticklabels(), visible=False)\n",
    "        if col != 0:\n",
    "            plt.setp(ax[row][col].get_yticklabels(), visible=False)\n",
    "        df = pd.read_csv(csvName)\n",
    "fig.set_size_inches(28, 10)"
   ]
  },
  {
   "attachments": {},
   "cell_type": "markdown",
   "metadata": {},
   "source": [
    "### So we have a base model \n",
    "* Roughly matches the paper\n",
    "* Can we do better?\n",
    "### We mentioned two methods\n",
    "* TrueGrad adam\n",
    "* Enforcing rules on the singular values\n",
    "### Lets first explore singular values\n",
    "* Relevant to the paper was that the model didn't seem to \"grok\" until the singular values became small\n",
    "* Can we enforce this somehow?\n",
    "    * Is this idea new?\n",
    "    * No idea is new...\n",
    "### Relevant lit.\n",
    "#### Paper 1\n",
    "* This [paper](https://arxiv.org/pdf/1611.06013.pdf) put a hard bound on singular values keeping them near 1\n",
    "    * This preformed reasonably well \n",
    "    * But they have a problem! They have to somewhat regularly compute an svd composition to enforce the rules on their weight matrix!\n",
    "        * This is extremely expensive!\n",
    "#### Paper 2\n",
    "* Another [paper](https://www.microsoft.com/en-us/research/wp-content/uploads/2013/01/svd_v2.pdf) use the svd to improve sparcity for generalization\n",
    "    * This is (no pun) in some sense orthogonal to what we are doing, but an easily transferable task worth mentioning\n",
    "* There actually isn't a ton of relevant literature on enforcing singular values (although there is a lot of research on orthogonal matrices and CNN's)\n",
    "    * Why is this though?\n",
    "    * We like to believe it is because methods involved computing the svd of the weights\n",
    "    * this is prohibitively expensive\n",
    "#### Paper 3\n",
    "* But there is one very interesting paper!\n",
    "* This beautiful [paper](https://arxiv.org/pdf/2009.13977.pdf) which recieved a neurips spotlight proposed SVD neural networks\n",
    "* Essentially they represented each weight as its SVD decompositions ($U$, $S$, $V$) and trained them\n",
    "    * This would be nice... but U and V must be orthogonal for this to make any sense\n",
    "        * Regularization on gradient descent isn't enough!\n",
    "        * We need math!\n",
    "    * They represent $U$ and $V$ as a product of house holder matrices!\n",
    "        * A householder matrix is a special orthogonal matrix which *stays orthogonal on gradient descent!!!!*\n",
    "        * Limitations\n",
    "            * $U$ $S$ $V$ doesn't necessarily span the most useful space when $U$ and $V$ must be householder matrices\n",
    "        * Solution!\n",
    "            * Any orthogonal matrix $A \\in R^{(N, N)}$ can be represented by $N$ house holder matrices\n",
    "        * Limitation of solution\n",
    "            * Oh my god that turns the first layer of mnist into a minium of 784 matrix multiplications\n",
    "        * They wrote the library mentioned at the top [fasth](https://github.com/AlexanderMath/fasth) which does the math much faster\n",
    "        * Still not ideal\n",
    "### Proposed ideas\n",
    "* Okay we have some reasons to believe we might be able to accomplish the task\n",
    "    * This looks like enforcing some \"smallness\" rules on our singular values\n",
    "* Lets implement something things and test our assumptions\n"
   ]
  },
  {
   "attachments": {},
   "cell_type": "markdown",
   "metadata": {},
   "source": [
    "### Using householder matrices on mnist\n",
    "* Mnist is great because its very learnable\n",
    "#### Key limitation of householder\n",
    "* You can *not* use momentum optimizers\n",
    "* Householder matrices hold their properties on $SGD$ but non linear operators on the gradient break the properties\n",
    "#### Householder defintion "
   ]
  },
  {
   "cell_type": "code",
   "execution_count": 11,
   "metadata": {},
   "outputs": [],
   "source": [
    "def householder(vector: Tensor):\n",
    "    # assert column vector, just a good sanity check\n",
    "    assert vector.shape[1] == 1\n",
    "    assert len(vector.shape) == 2\n",
    "    I = torch.eye(vector.shape[0])\n",
    "    return I - 2*vector@vector.T/(vector.T@vector)"
   ]
  },
  {
   "attachments": {},
   "cell_type": "markdown",
   "metadata": {},
   "source": [
    "#### Implementation of Necessary classes\n",
    "* Essentially we want a linear layer that stores the singular values\n",
    "* It's useful to abstract the house holder matrices to modules\n",
    "    * We can vary the number of house holder matrices later\n",
    "#### Glossed over but non square weight matrices are annoying\n",
    "* Defined as follows $W \\in R^{(N, M)}$\n",
    "    * $U \\in R^{(N, N)}$, $S \\in R^{(N, M)}$, $M \\in R^{(M, M)}$\n",
    "\n",
    "#### What the hell is setHouseOrthNHouseHolders!!!\n",
    "* Why I'm glad you asked\n",
    "* For reasons well beyond me I can't properly segment the parameters when using a parameter list\n",
    "* So I write a function that outputs the houseOrth as a string with the right number of parameters\n",
    "* We can then call exec on that object to set the number of house holder matrices\n",
    "* I'm as upset as you are about this"
   ]
  },
  {
   "cell_type": "code",
   "execution_count": 416,
   "metadata": {},
   "outputs": [],
   "source": [
    "import math\n",
    "from torch.nn import init\n",
    "#from torch import device, dtype\n",
    "# A major todo is to verify this preserves the singular values \n",
    "# It doesn't really change the \"hardness\" of the problem\n",
    "# But my math ability is questionable\n",
    "# V @ (S.T @ (U @ x.T))#\n",
    "class HouseOrth(torch.nn.Module):\n",
    "    def __init__(self, N: int, device=None, dtype=None):\n",
    "        factory_kwargs = {'device': device, 'dtype': dtype}\n",
    "        super().__init__()\n",
    "        # random initialization... this could be improved\n",
    "        self.U = Parameter(householder(torch.empty(N,1, **factory_kwargs).uniform_(-1/math.sqrt(N), 1/math.sqrt(N))))\n",
    "        \n",
    "    def forward(self, x: Tensor):\n",
    "        \n",
    "        return self.U @ x.T\n",
    "\n",
    "def setHouseOrthNHouseHolders(n_householders):\n",
    "    \"\"\"\n",
    "    Father forgive me for I hath sinned\n",
    "    \"\"\"\n",
    "    u = [f\"\\t\\tself.U{i} = Parameter(householder(torch.empty(N,1, **factory_kwargs).uniform_(-1/math.sqrt(N), 1/math.sqrt(N))))\" for i in range(n_householders)]\n",
    "    u = '\\n'.join(u)\n",
    "    u = u.replace(\"\\t\", \" \"*4)\n",
    "    def helper(i):\n",
    "        if i == 0:\n",
    "            return \"self.U0 @ x.T\"\n",
    "        return f\"self.U{i} @ ({helper(i-1)})\"\n",
    "\n",
    "    s = f\"\"\"\n",
    "class HouseOrth(torch.nn.Module):\n",
    "    def __init__(self, N: int, device=None, dtype=None):\n",
    "        factory_kwargs = {{'device': device, 'dtype': dtype}}\n",
    "        super().__init__()\n",
    "        # random initialization... this could be improved\n",
    "{u}\n",
    "    def forward(self, x: Tensor):\n",
    "        \n",
    "        return {helper(n_householders-1)}\n",
    "    \"\"\"\n",
    "    \n",
    "\n",
    "    #exec(s,  )\n",
    "    return s\n",
    "\n",
    "\n",
    "class LinearSVD(torch.nn.Module):\n",
    "    def __init__(self, in_features: int, out_features: int, bias: bool = True, device=None, dtype=None):\n",
    "        factory_kwargs = {'device': device, 'dtype': dtype}\n",
    "        super().__init__()\n",
    "        N,M = in_features, out_features\n",
    "        self.in_features = in_features\n",
    "        self.out_features = out_features\n",
    "        self.U = HouseOrth(N, **factory_kwargs)\n",
    "        # we normalize the singular values in the multiplication - smart initialization probably doesn't matter too much\n",
    "        # and if it does we do not know what that would be\n",
    "        self.singulars = Parameter(torch.empty(M, **factory_kwargs).uniform_(-1/math.sqrt(out_features), 1/math.sqrt(in_features)))\n",
    "        self.register_buffer(\"S\", torch.eye(N,M, **factory_kwargs)) # singulars are trainable - the matrix isn't (only the diagonal are parameters)\n",
    "        self.V = HouseOrth(M, **factory_kwargs) # Whether or not this is transposed doesn't really matter - its valid either way just a diff matrix\n",
    "        # copy torch.nn.Linear for what its worth here\n",
    "        if bias:\n",
    "            self.bias = Parameter(torch.empty((out_features,), **factory_kwargs) )\n",
    "            #step = self.U()\n",
    "            fan_in, _ = init._calculate_fan_in_and_fan_out(self.V(self.U( (self.singulars*self.S).T)))\n",
    "            bound = 1 / math.sqrt(fan_in) if fan_in > 0 else 0\n",
    "            init.uniform_(self.bias, -bound, bound)\n",
    "        else:\n",
    "            self.register_parameter('bias', None)\n",
    "\n",
    "    def forward(self, x: Tensor) -> Tensor:\n",
    "        return self.V( ((self.singulars * self.S).T @ self.U(x)).T ).T + self.bias\n",
    "    \n"
   ]
  },
  {
   "attachments": {},
   "cell_type": "markdown",
   "metadata": {},
   "source": [
    "#### Test how well this learns on full batch mnist\n",
    "* Use simple linear model"
   ]
  },
  {
   "cell_type": "code",
   "execution_count": 417,
   "metadata": {},
   "outputs": [],
   "source": [
    "import tensorflow.keras.datasets.mnist as mnist\n",
    "(x_train, y_train), (x_test, y_test) = mnist.load_data()\n",
    "x_train = torch.tensor(x_train).cuda().reshape(x_train.shape[0], math.prod(x_train.shape[1:])).float() #/ 255 # normalize b/c uh this is prolly smart?\n",
    "y_train = torch.tensor(y_train).cuda()\n",
    "\n",
    "x_test = torch.tensor(x_test).cuda().reshape(x_test.shape[0], math.prod(x_test.shape[1:])).float()\n",
    "y_test = torch.tensor(y_test).cuda()"
   ]
  },
  {
   "cell_type": "code",
   "execution_count": 418,
   "metadata": {},
   "outputs": [],
   "source": [
    "class Model(torch.nn.Module):\n",
    "    def __init__(self, useSVD=True):\n",
    "        super().__init__()\n",
    "        if useSVD:\n",
    "            Linear = LinearSVD\n",
    "        else:\n",
    "            Linear = torch.nn.Linear\n",
    "        self.fc1 = Linear(784, 128)\n",
    "        self.fc2 = Linear(128, 128)\n",
    "        self.fc3 = Linear(128, 10)\n",
    "    \n",
    "    def forward(self, x: Tensor):\n",
    "        x = F.relu(self.fc1(x))\n",
    "        x = F.relu(self.fc2(x))\n",
    "        return F.softmax(self.fc3(x), -1)"
   ]
  },
  {
   "attachments": {},
   "cell_type": "markdown",
   "metadata": {},
   "source": [
    "#### Compare linearSVD with Linear\n",
    "* We cannot use Adam on HouseOrth\n",
    "* We can on singulars\n",
    "* We do not care about generalization on mnist\n",
    "    * Only inspecting training accuracies"
   ]
  },
  {
   "cell_type": "code",
   "execution_count": 419,
   "metadata": {},
   "outputs": [],
   "source": [
    "def segmentHouseHolderParameters(model: torch.nn.Module):\n",
    "    \"\"\"\n",
    "    Returns tuple[0] = HouseParameters for SGD optimizer \n",
    "    tuple[1] = All other Parameters for Adam\n",
    "    \"\"\"\n",
    "    houseParams: List[Parameter] = []\n",
    "    otherParams: List[Parameter] = []\n",
    "    for module in model.modules():\n",
    "        if isinstance(module, HouseOrth):\n",
    "            # parameter lists... needs to be true apparently... honest to god not sure why\n",
    "            # but since HouseOrth is a base module it doesn't cause errors\n",
    "            for p in module.parameters(False): houseParams.append(p) \n",
    "        else:\n",
    "            for p in module.parameters(False): otherParams.append(p)\n",
    "    return houseParams, otherParams\n",
    "\n",
    "def getOptimizers(model: torch.nn.Module):\n",
    "    \"\"\"\n",
    "    Optimizers get unhappy when you give them an empty list, so we don't do that\n",
    "    Just an abstraction to avoid rewriting a lot of code\n",
    "    \"\"\"\n",
    "    hParams, nParams = segmentHouseHolderParameters(model)\n",
    "    optimizers: List[torch.optim.Optimizer] = []\n",
    "    if len(hParams) != 0:\n",
    "        optimizers.append(torch.optim.SGD(hParams, lr=3e-3))\n",
    "    if len(nParams) != 0:\n",
    "        optimizers.append(torch.optim.Adam(nParams, lr=3e-4))\n",
    "    return optimizers \n",
    "\n"
   ]
  },
  {
   "cell_type": "code",
   "execution_count": 420,
   "metadata": {},
   "outputs": [],
   "source": [
    "def minibatchTrain(model: torch.nn.Module, optimizers: List[torch.optim.Optimizer], epochs: int = 100, batch_size: int = 1000) -> List[Tensor]:\n",
    "    \"\"\"\n",
    "    Train the model, return list of accuracies\n",
    "    the optimizers are a list because we want to be able to use different optimizers\n",
    "    on different parameters in the network. \n",
    "\n",
    "    Our problem doesn't do minibatching - but not minibatching makes result pretty unstable so for testing we use minibatching.\n",
    "    Note: I refuse to learn how to use pytorch's dataloader it confused me once 4 years ago and I took it personally.\n",
    "    Note: Yes the batch size is non standard but idk divisible by 60k is nice\n",
    "    \"\"\"\n",
    "    accuracies = []\n",
    "    samples = x_train.shape[0]\n",
    "    n_batches = samples // batch_size\n",
    "    for i in range(epochs):\n",
    "        perm = np.random.permutation(samples) # switch order every epoch generally good practice\n",
    "        for batch in range(n_batches):\n",
    "            x = x_train[perm[batch*batch_size:(batch+1)*batch_size]]\n",
    "            y = y_train[perm[batch*batch_size:(batch+1)*batch_size]]\n",
    "            for opt in optimizers: opt.zero_grad()\n",
    "            pred = model(x)\n",
    "            loss = F.cross_entropy(pred, y)\n",
    "            loss.backward()\n",
    "            for opt in optimizers: opt.step()\n",
    "        with torch.no_grad():\n",
    "            acc = (torch.argmax(model(x_train), -1) == y_train).float().mean()\n",
    "            accuracies.append(acc.clone().detach().cpu().numpy())\n",
    "    return accuracies\n"
   ]
  },
  {
   "cell_type": "code",
   "execution_count": null,
   "metadata": {},
   "outputs": [],
   "source": []
  },
  {
   "cell_type": "code",
   "execution_count": 421,
   "metadata": {},
   "outputs": [],
   "source": [
    "# normal linear model\n",
    "standardModel = Model(useSVD=False).cuda()\n",
    "standardOpt = getOptimizers(standardModel)\n",
    "standardAcc = minibatchTrain(standardModel, standardOpt)\n",
    "#setHouseOrthNHouseHolders(2)\n",
    "# svd linear model\n",
    "s = setHouseOrthNHouseHolders(2)\n",
    "exec(s) # yes this is insane\n",
    "svdModel = Model(useSVD=True).cuda()\n",
    "svdOpt = getOptimizers(svdModel)\n",
    "svdAcc = minibatchTrain(svdModel, svdOpt)\n"
   ]
  },
  {
   "cell_type": "code",
   "execution_count": 422,
   "metadata": {},
   "outputs": [
    {
     "data": {
      "text/plain": [
       "<matplotlib.legend.Legend at 0x7f5e6cb3d610>"
      ]
     },
     "execution_count": 422,
     "metadata": {},
     "output_type": "execute_result"
    },
    {
     "data": {
      "image/png": "[encoded data removed]",
      "text/plain": [
       "<Figure size 432x288 with 1 Axes>"
      ]
     },
     "metadata": {
      "needs_background": "light"
     },
     "output_type": "display_data"
    }
   ],
   "source": [
    "fig, ax = plt.subplots()\n",
    "# plotting\n",
    "x = np.arange(len(standardAcc))\n",
    "ax.plot(x, standardAcc, label=\"Standard model\")\n",
    "ax.plot(x, svdAcc, label = \"SVD Model\")\n",
    "ax.legend()"
   ]
  },
  {
   "attachments": {},
   "cell_type": "markdown",
   "metadata": {},
   "source": [
    "### Yea this isn't perfect!\n",
    "* But it does learn!\n",
    "* We managed to restrict the space *considerably*\n",
    "    * We can make the learnable space larger by using more house holder matrices for $U$ and $V$\n",
    "### The sane way to do this is a parameter list\n",
    "* For the love of god I don't know why this causes problems\n",
    "* But when I segment the parameters it doesn't work right...\n",
    "    * U and V loose the fact they are orthgonal\n",
    "* Solving this is insane\n",
    "    * But we perservere\n",
    "### Write a function that outputs a new HouseOrth class\n",
    "* This houseOrth class will have the correct number of parameters"
   ]
  },
  {
   "cell_type": "code",
   "execution_count": 424,
   "metadata": {},
   "outputs": [
    {
     "data": {
      "text/plain": [
       "tensor(0.0491, device='cuda:0', grad_fn=<MaxBackward1>)"
      ]
     },
     "execution_count": 424,
     "metadata": {},
     "output_type": "execute_result"
    }
   ],
   "source": [
    "\n",
    "(svdModel.fc1.U.U1 @ svdModel.fc1.U.U1.T - torch.eye(784).cuda()).abs().max()"
   ]
  },
  {
   "cell_type": "code",
   "execution_count": 391,
   "metadata": {},
   "outputs": [
    {
     "data": {
      "text/plain": [
       "tensor(0.0805, device='cuda:0', grad_fn=<MaxBackward1>)"
      ]
     },
     "execution_count": 391,
     "metadata": {},
     "output_type": "execute_result"
    }
   ],
   "source": [
    "(svdModel.fc1.U.U @ svdModel.fc1.U.U.T - torch.eye(784).cuda()).abs().max()"
   ]
  },
  {
   "cell_type": "code",
   "execution_count": 315,
   "metadata": {},
   "outputs": [
    {
     "name": "stdout",
     "output_type": "stream",
     "text": [
      "tensor(0.0675, device='cuda:0', grad_fn=<MaxBackward1>)\n"
     ]
    },
    {
     "data": {
      "text/plain": [
       "tensor(0.0713, device='cuda:0', grad_fn=<MaxBackward1>)"
      ]
     },
     "execution_count": 315,
     "metadata": {},
     "output_type": "execute_result"
    }
   ],
   "source": [
    "t = svdModel.fc1.V.U1\n",
    "print((t @ t.T - torch.eye(128).cuda()).abs().max())\n",
    "t = svdModel.fc1.V.U2\n",
    "(t @ t.T - torch.eye(128).cuda()).abs().max()"
   ]
  },
  {
   "cell_type": "code",
   "execution_count": 328,
   "metadata": {},
   "outputs": [
    {
     "data": {
      "text/plain": [
       "[Parameter containing:\n",
       " tensor([[     0.9970,     -0.0017,     -0.0029,  ...,      0.0021,\n",
       "              -0.0045,     -0.0004],\n",
       "         [    -0.0017,      0.9991,     -0.0016,  ...,      0.0012,\n",
       "              -0.0025,     -0.0002],\n",
       "         [    -0.0029,     -0.0016,      0.9972,  ...,      0.0021,\n",
       "              -0.0043,     -0.0004],\n",
       "         ...,\n",
       "         [     0.0021,      0.0012,      0.0021,  ...,      0.9985,\n",
       "               0.0032,      0.0003],\n",
       "         [    -0.0045,     -0.0025,     -0.0043,  ...,      0.0032,\n",
       "               0.9934,     -0.0006],\n",
       "         [    -0.0004,     -0.0002,     -0.0004,  ...,      0.0003,\n",
       "              -0.0006,      0.9999]], requires_grad=True),\n",
       " Parameter containing:\n",
       " tensor([[     0.9865,     -0.0247,     -0.0122,  ...,      0.0009,\n",
       "               0.0089,     -0.0100],\n",
       "         [    -0.0247,      0.9551,     -0.0223,  ...,      0.0016,\n",
       "               0.0163,     -0.0183],\n",
       "         [    -0.0122,     -0.0223,      0.9890,  ...,      0.0008,\n",
       "               0.0081,     -0.0091],\n",
       "         ...,\n",
       "         [     0.0009,      0.0016,      0.0008,  ...,      0.9999,\n",
       "              -0.0006,      0.0006],\n",
       "         [     0.0089,      0.0163,      0.0081,  ...,     -0.0006,\n",
       "               0.9941,      0.0066],\n",
       "         [    -0.0100,     -0.0183,     -0.0091,  ...,      0.0006,\n",
       "               0.0066,      0.9925]], requires_grad=True),\n",
       " Parameter containing:\n",
       " tensor([[     0.9964,     -0.0005,     -0.0111,  ...,     -0.0113,\n",
       "              -0.0062,      0.0124],\n",
       "         [    -0.0005,      0.9999,     -0.0015,  ...,     -0.0015,\n",
       "              -0.0009,      0.0017],\n",
       "         [    -0.0111,     -0.0015,      0.9660,  ...,     -0.0346,\n",
       "              -0.0190,      0.0378],\n",
       "         ...,\n",
       "         [    -0.0113,     -0.0015,     -0.0346,  ...,      0.9647,\n",
       "              -0.0194,      0.0386],\n",
       "         [    -0.0062,     -0.0009,     -0.0190,  ...,     -0.0194,\n",
       "               0.9893,      0.0212],\n",
       "         [     0.0124,      0.0017,      0.0378,  ...,      0.0386,\n",
       "               0.0212,      0.9578]], requires_grad=True),\n",
       " Parameter containing:\n",
       " tensor([[ 0.9606,  0.0219, -0.0083,  ...,  0.0231,  0.0328, -0.0232],\n",
       "         [ 0.0219,  0.9878,  0.0046,  ..., -0.0129, -0.0182,  0.0129],\n",
       "         [-0.0083,  0.0046,  0.9983,  ...,  0.0048,  0.0069, -0.0049],\n",
       "         ...,\n",
       "         [ 0.0231, -0.0129,  0.0048,  ...,  0.9864, -0.0192,  0.0136],\n",
       "         [ 0.0328, -0.0182,  0.0069,  ..., -0.0192,  0.9727,  0.0193],\n",
       "         [-0.0232,  0.0129, -0.0049,  ...,  0.0136,  0.0193,  0.9863]],\n",
       "        requires_grad=True),\n",
       " Parameter containing:\n",
       " tensor([[     0.9669,      0.0240,      0.0074,  ...,     -0.0348,\n",
       "               0.0076,     -0.0018],\n",
       "         [     0.0240,      0.9827,     -0.0054,  ...,      0.0251,\n",
       "              -0.0055,      0.0013],\n",
       "         [     0.0074,     -0.0054,      0.9983,  ...,      0.0078,\n",
       "              -0.0017,      0.0004],\n",
       "         ...,\n",
       "         [    -0.0348,      0.0251,      0.0078,  ...,      0.9635,\n",
       "               0.0080,     -0.0019],\n",
       "         [     0.0076,     -0.0055,     -0.0017,  ...,      0.0080,\n",
       "               0.9982,      0.0004],\n",
       "         [    -0.0018,      0.0013,      0.0004,  ...,     -0.0019,\n",
       "               0.0004,      0.9999]], requires_grad=True),\n",
       " Parameter containing:\n",
       " tensor([[ 0.7229, -0.1477, -0.3198, -0.2354,  0.2744, -0.2801, -0.0837, -0.1967,\n",
       "           0.3137,  0.0069],\n",
       "         [-0.1477,  0.9212, -0.1705, -0.1255,  0.1463, -0.1493, -0.0446, -0.1049,\n",
       "           0.1673,  0.0037],\n",
       "         [-0.3198, -0.1705,  0.6309, -0.2717,  0.3167, -0.3232, -0.0966, -0.2270,\n",
       "           0.3621,  0.0079],\n",
       "         [-0.2354, -0.1255, -0.2717,  0.8000,  0.2331, -0.2379, -0.0711, -0.1671,\n",
       "           0.2665,  0.0058],\n",
       "         [ 0.2744,  0.1463,  0.3167,  0.2331,  0.7282,  0.2773,  0.0829,  0.1948,\n",
       "          -0.3107, -0.0068],\n",
       "         [-0.2801, -0.1493, -0.3232, -0.2379,  0.2773,  0.7170, -0.0846, -0.1987,\n",
       "           0.3171,  0.0070],\n",
       "         [-0.0837, -0.0446, -0.0966, -0.0711,  0.0829, -0.0846,  0.9747, -0.0594,\n",
       "           0.0948,  0.0021],\n",
       "         [-0.1967, -0.1049, -0.2270, -0.1671,  0.1948, -0.1987, -0.0594,  0.8604,\n",
       "           0.2227,  0.0049],\n",
       "         [ 0.3137,  0.1673,  0.3621,  0.2665, -0.3107,  0.3171,  0.0948,  0.2227,\n",
       "           0.6448, -0.0078],\n",
       "         [ 0.0069,  0.0037,  0.0079,  0.0058, -0.0068,  0.0070,  0.0021,  0.0049,\n",
       "          -0.0078,  0.9998]], requires_grad=True)]"
      ]
     },
     "execution_count": 328,
     "metadata": {},
     "output_type": "execute_result"
    }
   ],
   "source": [
    "segmentHouseHolderParameters(Model(useSVD=True))[0]"
   ]
  },
  {
   "cell_type": "code",
   "execution_count": 349,
   "metadata": {},
   "outputs": [
    {
     "name": "stdout",
     "output_type": "stream",
     "text": [
      "None\n"
     ]
    }
   ],
   "source": [
    "s =\"\"\"\n",
    "class Dummy:\n",
    "    pass\n",
    "\"\"\"\n",
    "print(exec(s.strip()))"
   ]
  },
  {
   "cell_type": "code",
   "execution_count": 350,
   "metadata": {},
   "outputs": [
    {
     "data": {
      "text/plain": [
       "<__main__.Dummy at 0x7f5e6cde2dc0>"
      ]
     },
     "execution_count": 350,
     "metadata": {},
     "output_type": "execute_result"
    }
   ],
   "source": []
  },
  {
   "cell_type": "code",
   "execution_count": null,
   "metadata": {},
   "outputs": [],
   "source": []
  }
 ],
 "metadata": {
  "kernelspec": {
   "display_name": "Python 3.8.15 ('cmsc')",
   "language": "python",
   "name": "python3"
  },
  "language_info": {
   "codemirror_mode": {
    "name": "ipython",
    "version": 3
   },
   "file_extension": ".py",
   "mimetype": "text/x-python",
   "name": "python",
   "nbconvert_exporter": "python",
   "pygments_lexer": "ipython3",
   "version": "3.8.15"
  },
  "orig_nbformat": 4,
  "vscode": {
   "interpreter": {
    "hash": "84632eeb22439882512e471b7249f8dc904dd5464b6101158ce571edabf38baa"
   }
  }
 },
 "nbformat": 4,
 "nbformat_minor": 2
}
